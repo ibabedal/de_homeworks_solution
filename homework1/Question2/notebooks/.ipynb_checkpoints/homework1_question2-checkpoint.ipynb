{
 "cells": [
  {
   "cell_type": "code",
   "execution_count": 1,
   "id": "b37e577d-b8e9-4660-b5da-22a3d9e02dfd",
   "metadata": {},
   "outputs": [
    {
     "name": "stdout",
     "output_type": "stream",
     "text": [
      "Collecting pandas\n",
      "  Downloading pandas-1.4.2-cp39-cp39-manylinux_2_17_x86_64.manylinux2014_x86_64.whl (11.7 MB)\n",
      "\u001b[2K     \u001b[90m━━━━━━━━━━━━━━━━━━━━━━━━━━━━━━━━━━━━━━━━\u001b[0m \u001b[32m11.7/11.7 MB\u001b[0m \u001b[31m56.2 MB/s\u001b[0m eta \u001b[36m0:00:00\u001b[0m00:01\u001b[0m0:01\u001b[0m\n",
      "\u001b[?25hCollecting numpy\n",
      "  Downloading numpy-1.22.4-cp39-cp39-manylinux_2_17_x86_64.manylinux2014_x86_64.whl (16.8 MB)\n",
      "\u001b[2K     \u001b[90m━━━━━━━━━━━━━━━━━━━━━━━━━━━━━━━━━━━━━━━━\u001b[0m \u001b[32m16.8/16.8 MB\u001b[0m \u001b[31m32.3 MB/s\u001b[0m eta \u001b[36m0:00:00\u001b[0m00:01\u001b[0m00:01\u001b[0m\n",
      "\u001b[?25hCollecting faker\n",
      "  Using cached Faker-13.12.0-py3-none-any.whl (1.6 MB)\n",
      "Requirement already satisfied: sqlalchemy in /opt/conda/lib/python3.9/site-packages (1.4.36)\n",
      "Collecting psycopg2-binary\n",
      "  Downloading psycopg2_binary-2.9.3-cp39-cp39-manylinux_2_17_x86_64.manylinux2014_x86_64.whl (3.0 MB)\n",
      "\u001b[2K     \u001b[90m━━━━━━━━━━━━━━━━━━━━━━━━━━━━━━━━━━━━━━━━\u001b[0m \u001b[32m3.0/3.0 MB\u001b[0m \u001b[31m40.9 MB/s\u001b[0m eta \u001b[36m0:00:00\u001b[0ma \u001b[36m0:00:01\u001b[0m\n",
      "\u001b[?25hRequirement already satisfied: pytz>=2020.1 in /opt/conda/lib/python3.9/site-packages (from pandas) (2022.1)\n",
      "Requirement already satisfied: python-dateutil>=2.8.1 in /opt/conda/lib/python3.9/site-packages (from pandas) (2.8.2)\n",
      "Requirement already satisfied: greenlet!=0.4.17 in /opt/conda/lib/python3.9/site-packages (from sqlalchemy) (1.1.2)\n",
      "Requirement already satisfied: six>=1.5 in /opt/conda/lib/python3.9/site-packages (from python-dateutil>=2.8.1->pandas) (1.16.0)\n",
      "Installing collected packages: psycopg2-binary, numpy, pandas, faker\n",
      "Successfully installed faker-13.12.0 numpy-1.22.4 pandas-1.4.2 psycopg2-binary-2.9.3\n"
     ]
    }
   ],
   "source": [
    "try:\n",
    "    import pandas as pd\n",
    "    import numpy as np\n",
    "    from faker import Faker\n",
    "    import csv\n",
    "    from sqlalchemy import create_engine\n",
    "    import psycopg2\n",
    "except:\n",
    "    !pip install pandas numpy faker sqlalchemy psycopg2-binary\n",
    "    import pandas as pd\n",
    "    import numpy as np\n",
    "    from faker import Faker\n",
    "    import csv\n",
    "    from sqlalchemy import create_engine\n",
    "    import psycopg2"
   ]
  },
  {
   "cell_type": "markdown",
   "id": "e4510f68-082d-4bed-a429-5ec8f0d350ff",
   "metadata": {},
   "source": [
    "### Create the CSV data and import to the database as pre-requisite"
   ]
  },
  {
   "cell_type": "code",
   "execution_count": 2,
   "id": "e50a4e29-b7a2-4262-a556-57e8653eafbe",
   "metadata": {},
   "outputs": [],
   "source": [
    "from faker import Faker\n",
    "import csv\n",
    "output=open('data.csv','w')\n",
    "fake=Faker()\n",
    "header=['name','age','street','city','state','zip','lng','lat']\n",
    "mywriter=csv.writer(output)\n",
    "mywriter.writerow(header)\n",
    "for r in range(1000):\n",
    "    row =[fake.name(),fake.random_int(min=18,max=80, step=1), \n",
    "                       fake.street_address(), fake.city(),fake.state(),\n",
    "                       fake.zipcode(),fake.longitude(),fake.latitude()]\n",
    "    #print(row)\n",
    "    mywriter.writerow(row)\n",
    "\n",
    "output.close()"
   ]
  },
  {
   "cell_type": "markdown",
   "id": "0ff8a0e0-1b27-470c-a918-1e8f3d327b97",
   "metadata": {},
   "source": [
    "### Create the connection to the database"
   ]
  },
  {
   "cell_type": "markdown",
   "id": "e163658d-938f-4358-be5f-86c94c9f6526",
   "metadata": {},
   "source": [
    "Due to a bug in the libpq packages for Mac M1 laptops, a workaround is to run the containers with rosetta or on intel based Linux machine\n",
    "ref link: https://stackoverflow.com/questions/62807717/how-can-i-solve-postgresql-scram-authentifcation-problem"
   ]
  },
  {
   "cell_type": "code",
   "execution_count": 3,
   "id": "6cc2e0de-907d-4047-a91a-8fb53c9fd28d",
   "metadata": {},
   "outputs": [
    {
     "name": "stdout",
     "output_type": "stream",
     "text": [
      "[]\n"
     ]
    },
    {
     "name": "stderr",
     "output_type": "stream",
     "text": [
      "/tmp/ipykernel_962/1535376310.py:14: SADeprecationWarning: The Engine.table_names() method is deprecated and will be removed in a future release.  Please refer to Inspector.get_table_names(). (deprecated since: 1.4)\n",
      "  print(engine.table_names())\n"
     ]
    }
   ],
   "source": [
    "host='ibrahim_postgres'\n",
    "username='postgres'\n",
    "password='password123'\n",
    "database='deproject'\n",
    "port='5432'\n",
    "\n",
    "engine = create_engine(connect)\n",
    "print(engine.table_names())"
   ]
  },
  {
   "cell_type": "markdown",
   "id": "05746d77-b3c0-4e28-b19e-62b8a8839a57",
   "metadata": {},
   "source": [
    "### Send the csv data to the postgres database"
   ]
  },
  {
   "cell_type": "code",
   "execution_count": 4,
   "id": "d50f55f6-7c27-4fed-88e9-0a078b7591c1",
   "metadata": {},
   "outputs": [
    {
     "data": {
      "text/html": [
       "<div>\n",
       "<style scoped>\n",
       "    .dataframe tbody tr th:only-of-type {\n",
       "        vertical-align: middle;\n",
       "    }\n",
       "\n",
       "    .dataframe tbody tr th {\n",
       "        vertical-align: top;\n",
       "    }\n",
       "\n",
       "    .dataframe thead th {\n",
       "        text-align: right;\n",
       "    }\n",
       "</style>\n",
       "<table border=\"1\" class=\"dataframe\">\n",
       "  <thead>\n",
       "    <tr style=\"text-align: right;\">\n",
       "      <th></th>\n",
       "      <th>name</th>\n",
       "      <th>age</th>\n",
       "      <th>street</th>\n",
       "      <th>city</th>\n",
       "      <th>state</th>\n",
       "      <th>zip</th>\n",
       "      <th>lng</th>\n",
       "      <th>lat</th>\n",
       "    </tr>\n",
       "  </thead>\n",
       "  <tbody>\n",
       "    <tr>\n",
       "      <th>0</th>\n",
       "      <td>Antonio Brown</td>\n",
       "      <td>79</td>\n",
       "      <td>323 Jason Flat Suite 519</td>\n",
       "      <td>Chaseton</td>\n",
       "      <td>Arizona</td>\n",
       "      <td>82488</td>\n",
       "      <td>-39.537394</td>\n",
       "      <td>68.791539</td>\n",
       "    </tr>\n",
       "    <tr>\n",
       "      <th>1</th>\n",
       "      <td>Laura Jones</td>\n",
       "      <td>44</td>\n",
       "      <td>920 Julia Well Apt. 168</td>\n",
       "      <td>North Amyville</td>\n",
       "      <td>South Carolina</td>\n",
       "      <td>81389</td>\n",
       "      <td>63.843692</td>\n",
       "      <td>44.614125</td>\n",
       "    </tr>\n",
       "    <tr>\n",
       "      <th>2</th>\n",
       "      <td>Tiffany Jones</td>\n",
       "      <td>34</td>\n",
       "      <td>12275 Crawford Forges Apt. 931</td>\n",
       "      <td>Johnsonton</td>\n",
       "      <td>Michigan</td>\n",
       "      <td>15812</td>\n",
       "      <td>-166.687859</td>\n",
       "      <td>79.271888</td>\n",
       "    </tr>\n",
       "    <tr>\n",
       "      <th>3</th>\n",
       "      <td>Melissa Thornton</td>\n",
       "      <td>52</td>\n",
       "      <td>9263 Lucas Stream</td>\n",
       "      <td>Smithbury</td>\n",
       "      <td>Idaho</td>\n",
       "      <td>95478</td>\n",
       "      <td>-80.484271</td>\n",
       "      <td>-36.097700</td>\n",
       "    </tr>\n",
       "    <tr>\n",
       "      <th>4</th>\n",
       "      <td>Amber Campbell</td>\n",
       "      <td>74</td>\n",
       "      <td>189 Edward Hollow</td>\n",
       "      <td>Ramirezview</td>\n",
       "      <td>Massachusetts</td>\n",
       "      <td>83852</td>\n",
       "      <td>-42.884748</td>\n",
       "      <td>-11.912273</td>\n",
       "    </tr>\n",
       "  </tbody>\n",
       "</table>\n",
       "</div>"
      ],
      "text/plain": [
       "               name  age                          street            city  \\\n",
       "0     Antonio Brown   79        323 Jason Flat Suite 519        Chaseton   \n",
       "1       Laura Jones   44         920 Julia Well Apt. 168  North Amyville   \n",
       "2     Tiffany Jones   34  12275 Crawford Forges Apt. 931      Johnsonton   \n",
       "3  Melissa Thornton   52               9263 Lucas Stream       Smithbury   \n",
       "4    Amber Campbell   74               189 Edward Hollow     Ramirezview   \n",
       "\n",
       "            state    zip         lng        lat  \n",
       "0         Arizona  82488  -39.537394  68.791539  \n",
       "1  South Carolina  81389   63.843692  44.614125  \n",
       "2        Michigan  15812 -166.687859  79.271888  \n",
       "3           Idaho  95478  -80.484271 -36.097700  \n",
       "4   Massachusetts  83852  -42.884748 -11.912273  "
      ]
     },
     "execution_count": 4,
     "metadata": {},
     "output_type": "execute_result"
    }
   ],
   "source": [
    "df = pd.read_csv('./data.csv')\n",
    "df.head()"
   ]
  },
  {
   "cell_type": "code",
   "execution_count": 5,
   "id": "4b35d405-a7b5-49bb-810a-be95e303cbb7",
   "metadata": {},
   "outputs": [
    {
     "data": {
      "text/plain": [
       "1000"
      ]
     },
     "execution_count": 5,
     "metadata": {},
     "output_type": "execute_result"
    }
   ],
   "source": [
    "df.to_sql('data',engine, if_exists='replace', index=False)"
   ]
  },
  {
   "cell_type": "code",
   "execution_count": 7,
   "id": "85720c75-dfe7-4fe8-8131-944137874d42",
   "metadata": {},
   "outputs": [],
   "source": [
    "def PSQL_to_DF():\n",
    "    host='ibrahim_postgres'\n",
    "    username='postgres'\n",
    "    password='password123'\n",
    "    database='deproject'\n",
    "    port='5432'\n",
    "    engine = create_engine(connect)\n",
    "    \n",
    "    df = pd.read_sql('SELECT * FROM data', engine)\n",
    "    \n",
    "    return df.copy()\n",
    "    "
   ]
  },
  {
   "cell_type": "code",
   "execution_count": 8,
   "id": "e90a8afc-8148-441f-a5f2-4fdf368b94bf",
   "metadata": {},
   "outputs": [
    {
     "data": {
      "text/html": [
       "<div>\n",
       "<style scoped>\n",
       "    .dataframe tbody tr th:only-of-type {\n",
       "        vertical-align: middle;\n",
       "    }\n",
       "\n",
       "    .dataframe tbody tr th {\n",
       "        vertical-align: top;\n",
       "    }\n",
       "\n",
       "    .dataframe thead th {\n",
       "        text-align: right;\n",
       "    }\n",
       "</style>\n",
       "<table border=\"1\" class=\"dataframe\">\n",
       "  <thead>\n",
       "    <tr style=\"text-align: right;\">\n",
       "      <th></th>\n",
       "      <th>name</th>\n",
       "      <th>age</th>\n",
       "      <th>street</th>\n",
       "      <th>city</th>\n",
       "      <th>state</th>\n",
       "      <th>zip</th>\n",
       "      <th>lng</th>\n",
       "      <th>lat</th>\n",
       "    </tr>\n",
       "  </thead>\n",
       "  <tbody>\n",
       "    <tr>\n",
       "      <th>0</th>\n",
       "      <td>Antonio Brown</td>\n",
       "      <td>79</td>\n",
       "      <td>323 Jason Flat Suite 519</td>\n",
       "      <td>Chaseton</td>\n",
       "      <td>Arizona</td>\n",
       "      <td>82488</td>\n",
       "      <td>-39.537394</td>\n",
       "      <td>68.791539</td>\n",
       "    </tr>\n",
       "    <tr>\n",
       "      <th>1</th>\n",
       "      <td>Laura Jones</td>\n",
       "      <td>44</td>\n",
       "      <td>920 Julia Well Apt. 168</td>\n",
       "      <td>North Amyville</td>\n",
       "      <td>South Carolina</td>\n",
       "      <td>81389</td>\n",
       "      <td>63.843692</td>\n",
       "      <td>44.614125</td>\n",
       "    </tr>\n",
       "    <tr>\n",
       "      <th>2</th>\n",
       "      <td>Tiffany Jones</td>\n",
       "      <td>34</td>\n",
       "      <td>12275 Crawford Forges Apt. 931</td>\n",
       "      <td>Johnsonton</td>\n",
       "      <td>Michigan</td>\n",
       "      <td>15812</td>\n",
       "      <td>-166.687859</td>\n",
       "      <td>79.271888</td>\n",
       "    </tr>\n",
       "    <tr>\n",
       "      <th>3</th>\n",
       "      <td>Melissa Thornton</td>\n",
       "      <td>52</td>\n",
       "      <td>9263 Lucas Stream</td>\n",
       "      <td>Smithbury</td>\n",
       "      <td>Idaho</td>\n",
       "      <td>95478</td>\n",
       "      <td>-80.484271</td>\n",
       "      <td>-36.097700</td>\n",
       "    </tr>\n",
       "    <tr>\n",
       "      <th>4</th>\n",
       "      <td>Amber Campbell</td>\n",
       "      <td>74</td>\n",
       "      <td>189 Edward Hollow</td>\n",
       "      <td>Ramirezview</td>\n",
       "      <td>Massachusetts</td>\n",
       "      <td>83852</td>\n",
       "      <td>-42.884748</td>\n",
       "      <td>-11.912273</td>\n",
       "    </tr>\n",
       "  </tbody>\n",
       "</table>\n",
       "</div>"
      ],
      "text/plain": [
       "               name  age                          street            city  \\\n",
       "0     Antonio Brown   79        323 Jason Flat Suite 519        Chaseton   \n",
       "1       Laura Jones   44         920 Julia Well Apt. 168  North Amyville   \n",
       "2     Tiffany Jones   34  12275 Crawford Forges Apt. 931      Johnsonton   \n",
       "3  Melissa Thornton   52               9263 Lucas Stream       Smithbury   \n",
       "4    Amber Campbell   74               189 Edward Hollow     Ramirezview   \n",
       "\n",
       "            state    zip         lng        lat  \n",
       "0         Arizona  82488  -39.537394  68.791539  \n",
       "1  South Carolina  81389   63.843692  44.614125  \n",
       "2        Michigan  15812 -166.687859  79.271888  \n",
       "3           Idaho  95478  -80.484271 -36.097700  \n",
       "4   Massachusetts  83852  -42.884748 -11.912273  "
      ]
     },
     "execution_count": 8,
     "metadata": {},
     "output_type": "execute_result"
    }
   ],
   "source": [
    "df = PSQL_to_DF()\n",
    "df.head()"
   ]
  },
  {
   "cell_type": "code",
   "execution_count": 26,
   "id": "38f3f80c-54f7-476c-8dbc-2a12562eb17b",
   "metadata": {},
   "outputs": [],
   "source": [
    "def CSV_to_JSON(df):\n",
    "    json_list = df.to_dict(orient='records')\n",
    "    return json_list"
   ]
  },
  {
   "cell_type": "code",
   "execution_count": 28,
   "id": "3c117b22-f53b-4c19-9466-4b769fd52876",
   "metadata": {},
   "outputs": [],
   "source": [
    "json_list = CSV_to_JSON(df)"
   ]
  },
  {
   "cell_type": "code",
   "execution_count": null,
   "id": "f7e9ef55-6b06-4932-8174-c8d43a5dfb0c",
   "metadata": {},
   "outputs": [],
   "source": [
    "def JSON_to_Mongo"
   ]
  }
 ],
 "metadata": {
  "kernelspec": {
   "display_name": "Python 3 (ipykernel)",
   "language": "python",
   "name": "python3"
  },
  "language_info": {
   "codemirror_mode": {
    "name": "ipython",
    "version": 3
   },
   "file_extension": ".py",
   "mimetype": "text/x-python",
   "name": "python",
   "nbconvert_exporter": "python",
   "pygments_lexer": "ipython3",
   "version": "3.9.12"
  }
 },
 "nbformat": 4,
 "nbformat_minor": 5
}
