{
 "cells": [
  {
   "cell_type": "markdown",
   "id": "711253c0-9dc4-4134-82a9-9b8b33784f00",
   "metadata": {},
   "source": [
    "# Generating the data and push it to the SQL database"
   ]
  },
  {
   "cell_type": "markdown",
   "id": "4f0fe9f7-6a36-41c0-9197-dbb1440f8d59",
   "metadata": {},
   "source": [
    "### This notebook is used to generate the random data and push it to the postgres so that airflow workflow can fetch it, convert it to json and push to the mongo DB"
   ]
  },
  {
   "cell_type": "code",
   "execution_count": 1,
   "id": "33a5a393-9d04-43ec-8fa5-5753320dddc2",
   "metadata": {},
   "outputs": [
    {
     "name": "stdout",
     "output_type": "stream",
     "text": [
      "Collecting pandas\n",
      "  Using cached pandas-1.4.2-cp39-cp39-manylinux_2_17_x86_64.manylinux2014_x86_64.whl (11.7 MB)\n",
      "Collecting numpy\n",
      "  Using cached numpy-1.22.4-cp39-cp39-manylinux_2_17_x86_64.manylinux2014_x86_64.whl (16.8 MB)\n",
      "Collecting faker\n",
      "  Using cached Faker-13.12.0-py3-none-any.whl (1.6 MB)\n",
      "Requirement already satisfied: sqlalchemy in /opt/conda/lib/python3.9/site-packages (1.4.36)\n",
      "Collecting psycopg2-binary\n",
      "  Using cached psycopg2_binary-2.9.3-cp39-cp39-manylinux_2_17_x86_64.manylinux2014_x86_64.whl (3.0 MB)\n",
      "Collecting pymongo\n",
      "  Using cached pymongo-4.1.1-cp39-cp39-manylinux_2_17_x86_64.manylinux2014_x86_64.whl (471 kB)\n",
      "Requirement already satisfied: pytz>=2020.1 in /opt/conda/lib/python3.9/site-packages (from pandas) (2022.1)\n",
      "Requirement already satisfied: python-dateutil>=2.8.1 in /opt/conda/lib/python3.9/site-packages (from pandas) (2.8.2)\n",
      "Requirement already satisfied: greenlet!=0.4.17 in /opt/conda/lib/python3.9/site-packages (from sqlalchemy) (1.1.2)\n",
      "Requirement already satisfied: six>=1.5 in /opt/conda/lib/python3.9/site-packages (from python-dateutil>=2.8.1->pandas) (1.16.0)\n",
      "Installing collected packages: pymongo, psycopg2-binary, numpy, pandas, faker\n",
      "Successfully installed faker-13.12.0 numpy-1.22.4 pandas-1.4.2 psycopg2-binary-2.9.3 pymongo-4.1.1\n"
     ]
    }
   ],
   "source": [
    "try:\n",
    "    import pandas as pd\n",
    "    import numpy as np\n",
    "    from faker import Faker\n",
    "    import csv\n",
    "    from sqlalchemy import create_engine\n",
    "    import psycopg2\n",
    "except:\n",
    "    !pip install pandas numpy faker sqlalchemy psycopg2-binary pymongo\n",
    "    import pandas as pd\n",
    "    import numpy as np\n",
    "    from faker import Faker\n",
    "    import csv\n",
    "    from sqlalchemy import create_engine\n",
    "    import psycopg2"
   ]
  },
  {
   "cell_type": "markdown",
   "id": "8a5145e6-518a-4137-b515-b2f9831880fa",
   "metadata": {},
   "source": [
    "#### Generating the csv file"
   ]
  },
  {
   "cell_type": "code",
   "execution_count": 2,
   "id": "416a65cf-4eb1-4819-a3d2-a19c0135017c",
   "metadata": {},
   "outputs": [],
   "source": [
    "from faker import Faker\n",
    "import csv\n",
    "output=open('data.csv','w')\n",
    "fake=Faker()\n",
    "header=['name','age','street','city','state','zip','lng','lat']\n",
    "mywriter=csv.writer(output)\n",
    "mywriter.writerow(header)\n",
    "for r in range(1000):\n",
    "    row =[fake.name(),fake.random_int(min=18,max=80, step=1), \n",
    "                       fake.street_address(), fake.city(),fake.state(),\n",
    "                       fake.zipcode(),fake.longitude(),fake.latitude()]\n",
    "    #print(row)\n",
    "    mywriter.writerow(row)\n",
    "\n",
    "output.close()"
   ]
  },
  {
   "cell_type": "markdown",
   "id": "952620fc-3f6a-45ea-b419-9b3842ccaa42",
   "metadata": {},
   "source": [
    "#### Create the connection to the database\n",
    "Due to a bug in the libpq packages for Mac M1 laptops, a workaround is to run the containers with rosetta or on intel based Linux machine ref link: https://stackoverflow.com/questions/62807717/how-can-i-solve-postgresql-scram-authentifcation-problem"
   ]
  },
  {
   "cell_type": "code",
   "execution_count": 5,
   "id": "0fc727c2-088c-4945-b6cc-551d2cad0914",
   "metadata": {},
   "outputs": [
    {
     "name": "stdout",
     "output_type": "stream",
     "text": [
      "['data']\n"
     ]
    },
    {
     "name": "stderr",
     "output_type": "stream",
     "text": [
      "/tmp/ipykernel_75/1324543537.py:8: SADeprecationWarning: The Engine.table_names() method is deprecated and will be removed in a future release.  Please refer to Inspector.get_table_names(). (deprecated since: 1.4)\n",
      "  print(engine.table_names())\n"
     ]
    }
   ],
   "source": [
    "host='ibrahim_postgres'\n",
    "username='postgres'\n",
    "password='password123'\n",
    "database='deproject'\n",
    "port='5432'\n",
    "\n",
    "engine = create_engine(f'postgresql://{username}:{password}@{host}:{port}/{database}')\n",
    "print(engine.table_names())"
   ]
  },
  {
   "cell_type": "markdown",
   "id": "82c95b77-6966-4462-aee5-542b5eae651e",
   "metadata": {},
   "source": [
    "#### Send the csv data to the postgres database"
   ]
  },
  {
   "cell_type": "code",
   "execution_count": 7,
   "id": "38df79d8-f67d-419d-bc39-d240e4a2dd60",
   "metadata": {},
   "outputs": [
    {
     "data": {
      "text/html": [
       "<div>\n",
       "<style scoped>\n",
       "    .dataframe tbody tr th:only-of-type {\n",
       "        vertical-align: middle;\n",
       "    }\n",
       "\n",
       "    .dataframe tbody tr th {\n",
       "        vertical-align: top;\n",
       "    }\n",
       "\n",
       "    .dataframe thead th {\n",
       "        text-align: right;\n",
       "    }\n",
       "</style>\n",
       "<table border=\"1\" class=\"dataframe\">\n",
       "  <thead>\n",
       "    <tr style=\"text-align: right;\">\n",
       "      <th></th>\n",
       "      <th>name</th>\n",
       "      <th>age</th>\n",
       "      <th>street</th>\n",
       "      <th>city</th>\n",
       "      <th>state</th>\n",
       "      <th>zip</th>\n",
       "      <th>lng</th>\n",
       "      <th>lat</th>\n",
       "    </tr>\n",
       "  </thead>\n",
       "  <tbody>\n",
       "    <tr>\n",
       "      <th>0</th>\n",
       "      <td>Dr. Rachel Cohen</td>\n",
       "      <td>79</td>\n",
       "      <td>9248 Andrew Viaduct Apt. 249</td>\n",
       "      <td>New Tylerstad</td>\n",
       "      <td>New Mexico</td>\n",
       "      <td>81744</td>\n",
       "      <td>46.529693</td>\n",
       "      <td>57.701027</td>\n",
       "    </tr>\n",
       "    <tr>\n",
       "      <th>1</th>\n",
       "      <td>Jocelyn Abbott</td>\n",
       "      <td>80</td>\n",
       "      <td>339 Morrow Highway Suite 359</td>\n",
       "      <td>Estesborough</td>\n",
       "      <td>West Virginia</td>\n",
       "      <td>32890</td>\n",
       "      <td>-12.151620</td>\n",
       "      <td>-19.978748</td>\n",
       "    </tr>\n",
       "    <tr>\n",
       "      <th>2</th>\n",
       "      <td>Erica Love</td>\n",
       "      <td>67</td>\n",
       "      <td>069 Marc Rapid Apt. 021</td>\n",
       "      <td>North John</td>\n",
       "      <td>Wyoming</td>\n",
       "      <td>93096</td>\n",
       "      <td>9.373608</td>\n",
       "      <td>-62.521178</td>\n",
       "    </tr>\n",
       "    <tr>\n",
       "      <th>3</th>\n",
       "      <td>Alexis Lee</td>\n",
       "      <td>29</td>\n",
       "      <td>97666 Robinson Port Apt. 566</td>\n",
       "      <td>Bradyfort</td>\n",
       "      <td>New Jersey</td>\n",
       "      <td>94657</td>\n",
       "      <td>178.078593</td>\n",
       "      <td>-5.186961</td>\n",
       "    </tr>\n",
       "    <tr>\n",
       "      <th>4</th>\n",
       "      <td>Theresa Butler</td>\n",
       "      <td>65</td>\n",
       "      <td>146 Natasha Shoal</td>\n",
       "      <td>Stephanieville</td>\n",
       "      <td>Florida</td>\n",
       "      <td>93566</td>\n",
       "      <td>-6.136323</td>\n",
       "      <td>68.989732</td>\n",
       "    </tr>\n",
       "  </tbody>\n",
       "</table>\n",
       "</div>"
      ],
      "text/plain": [
       "               name  age                        street            city  \\\n",
       "0  Dr. Rachel Cohen   79  9248 Andrew Viaduct Apt. 249   New Tylerstad   \n",
       "1    Jocelyn Abbott   80  339 Morrow Highway Suite 359    Estesborough   \n",
       "2        Erica Love   67       069 Marc Rapid Apt. 021      North John   \n",
       "3        Alexis Lee   29  97666 Robinson Port Apt. 566       Bradyfort   \n",
       "4    Theresa Butler   65             146 Natasha Shoal  Stephanieville   \n",
       "\n",
       "           state    zip         lng        lat  \n",
       "0     New Mexico  81744   46.529693  57.701027  \n",
       "1  West Virginia  32890  -12.151620 -19.978748  \n",
       "2        Wyoming  93096    9.373608 -62.521178  \n",
       "3     New Jersey  94657  178.078593  -5.186961  \n",
       "4        Florida  93566   -6.136323  68.989732  "
      ]
     },
     "execution_count": 7,
     "metadata": {},
     "output_type": "execute_result"
    }
   ],
   "source": [
    "df = pd.read_csv('./data.csv')\n",
    "df.head()"
   ]
  },
  {
   "cell_type": "code",
   "execution_count": 8,
   "id": "6f305cc3-00b7-4893-b836-1c027dbd7f51",
   "metadata": {},
   "outputs": [
    {
     "data": {
      "text/plain": [
       "1000"
      ]
     },
     "execution_count": 8,
     "metadata": {},
     "output_type": "execute_result"
    }
   ],
   "source": [
    "df.to_sql('data',engine, if_exists='replace', index=False)"
   ]
  },
  {
   "cell_type": "code",
   "execution_count": null,
   "id": "35255538-881d-440b-813d-2accb900a709",
   "metadata": {},
   "outputs": [],
   "source": []
  }
 ],
 "metadata": {
  "kernelspec": {
   "display_name": "Python 3 (ipykernel)",
   "language": "python",
   "name": "python3"
  },
  "language_info": {
   "codemirror_mode": {
    "name": "ipython",
    "version": 3
   },
   "file_extension": ".py",
   "mimetype": "text/x-python",
   "name": "python",
   "nbconvert_exporter": "python",
   "pygments_lexer": "ipython3",
   "version": "3.9.12"
  }
 },
 "nbformat": 4,
 "nbformat_minor": 5
}
