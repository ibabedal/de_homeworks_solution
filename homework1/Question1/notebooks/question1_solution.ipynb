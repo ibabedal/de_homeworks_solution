{
 "cells": [
  {
   "cell_type": "code",
   "execution_count": 2,
   "id": "2c9ba114-99d0-483f-8a77-7481a503c49d",
   "metadata": {},
   "outputs": [
    {
     "name": "stdout",
     "output_type": "stream",
     "text": [
      "Collecting pandas\n",
      "  Using cached pandas-1.4.2-cp39-cp39-manylinux_2_17_aarch64.manylinux2014_aarch64.whl (11.0 MB)\n",
      "Collecting numpy\n",
      "  Using cached numpy-1.22.4-cp39-cp39-manylinux_2_17_aarch64.manylinux2014_aarch64.whl (13.4 MB)\n",
      "Collecting faker\n",
      "  Using cached Faker-13.12.0-py3-none-any.whl (1.6 MB)\n",
      "Requirement already satisfied: pytz>=2020.1 in /opt/conda/lib/python3.9/site-packages (from pandas) (2022.1)\n",
      "Requirement already satisfied: python-dateutil>=2.8.1 in /opt/conda/lib/python3.9/site-packages (from pandas) (2.8.2)\n",
      "Requirement already satisfied: six>=1.5 in /opt/conda/lib/python3.9/site-packages (from python-dateutil>=2.8.1->pandas) (1.16.0)\n",
      "Installing collected packages: numpy, pandas, faker\n",
      "Successfully installed faker-13.12.0 numpy-1.22.4 pandas-1.4.2\n"
     ]
    }
   ],
   "source": [
    "try:\n",
    "    import pandas as pd\n",
    "    import numpy as np\n",
    "    from faker import Faker \n",
    "    import csv\n",
    "except:\n",
    "    !pip install pandas numpy faker\n",
    "    import pandas as pd\n",
    "    import numpy as np\n",
    "    from faker import Faker\n",
    "    import csv"
   ]
  },
  {
   "cell_type": "markdown",
   "id": "c3fd6cfb-0e84-461d-b5a1-40988484fc2d",
   "metadata": {},
   "source": [
    "### Generate the data.csv file to be used in Nifi workflow"
   ]
  },
  {
   "cell_type": "code",
   "execution_count": null,
   "id": "2763c64f-8335-40a1-84fa-5c22b0433659",
   "metadata": {},
   "outputs": [],
   "source": [
    "output=open('data/data.csv','w')\n",
    "fake=Faker()\n",
    "header=['name','age','street','city','state','zip','lng','lat']\n",
    "mywriter=csv.writer(output)\n",
    "mywriter.writerow(header)\n",
    "for r in range(1000):\n",
    "    row =[fake.name(),fake.random_int(min=18,max=80, step=1), \n",
    "                       fake.street_address(), fake.city(),fake.state(),\n",
    "                       fake.zipcode(),fake.longitude(),fake.latitude()]\n",
    "    #print(row)\n",
    "    mywriter.writerow(row)\n",
    "\n",
    "output.close()"
   ]
  },
  {
   "cell_type": "code",
   "execution_count": null,
   "id": "cbfc3943-12a6-4fdb-b546-b446915d883f",
   "metadata": {},
   "outputs": [],
   "source": []
  }
 ],
 "metadata": {
  "kernelspec": {
   "display_name": "Python 3 (ipykernel)",
   "language": "python",
   "name": "python3"
  },
  "language_info": {
   "codemirror_mode": {
    "name": "ipython",
    "version": 3
   },
   "file_extension": ".py",
   "mimetype": "text/x-python",
   "name": "python",
   "nbconvert_exporter": "python",
   "pygments_lexer": "ipython3",
   "version": "3.9.12"
  }
 },
 "nbformat": 4,
 "nbformat_minor": 5
}
